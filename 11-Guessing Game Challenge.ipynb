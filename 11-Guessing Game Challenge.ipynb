{
 "cells": [
  {
   "cell_type": "code",
   "execution_count": 15,
   "id": "a03a7d56-62e6-478e-87da-0ac6c592ccac",
   "metadata": {},
   "outputs": [],
   "source": [
    "import random"
   ]
  },
  {
   "cell_type": "code",
   "execution_count": 14,
   "id": "38bd8ef6-4bcb-4a96-947f-73015a730839",
   "metadata": {},
   "outputs": [
    {
     "name": "stdout",
     "output_type": "stream",
     "text": [
      "Wellcom to 'Guess The Number' game.\n",
      "In this game we think on a number between 1 to 100 and you have to guess it!\n",
      "Challenge your self and guess the number with as few attempts as possible!\n",
      "The rules are simple: \n",
      "\n",
      "\t1. Guess the number.\n",
      "\t2. If the first guess is within 10 away from the number we think about \n",
      "\t   we say 'WORM! if further 'COLD!'\n",
      "\t3. On all subsequent, if a guess is closer to the number than the previous guess we'll say 'WARMER!' else 'COLDER!'\n",
      "\n",
      "\n",
      "\n",
      "\n",
      "\n",
      "\n",
      "I think on a number try to guess it\n",
      "43\n"
     ]
    },
    {
     "name": "stdin",
     "output_type": "stream",
     "text": [
      "Enter your guess between 1 to 100 :  43\n"
     ]
    },
    {
     "name": "stdout",
     "output_type": "stream",
     "text": [
      "Congratulations ! You gess the number in 1 chances!\n"
     ]
    },
    {
     "name": "stdin",
     "output_type": "stream",
     "text": [
      "Would you like to keep playing? y/n :  n\n"
     ]
    },
    {
     "name": "stdout",
     "output_type": "stream",
     "text": [
      "Thanks for playing !! \n"
     ]
    }
   ],
   "source": [
    "print(\"Wellcom to 'Guess The Number' game.\")\n",
    "print(\"In this game we think on a number between 1 to 100 and you have to guess it!\")\n",
    "print(\"Challenge your self and guess the number with as few attempts as possible!\")\n",
    "print(\"The rules are simple: \\n\")\n",
    "print(\"\\t1. Guess the number.\")\n",
    "print(\"\\t2. If the first guess is within 10 away from the number we think about \\n\\t   we say 'WORM! if further 'COLD!'\")\n",
    "print(\"\\t3. On all subsequent, if a guess is closer to the number than the previous guess we'll say 'WARMER!' else 'COLDER!'\")\n",
    "print(\"\\n\"*5)\n",
    "\n",
    "gameOn = True\n",
    "chance = []\n",
    "\n",
    "while gameOn :\n",
    "    \n",
    "    print(\"I think on a number try to guess it\")\n",
    "    \n",
    "    rand_number = random.randint(1,100)\n",
    "    player_guess = None\n",
    "    \n",
    "    for i,item in enumerate(chance):\n",
    "        \n",
    "        player_guess = int(input(\"Enter your guess between 1 to 100 : \"))\n",
    "    \n",
    "        if player_guess == rand_number:\n",
    "            print(\"Congratulations! You guessed the number in {} attempts!\".format(i + 1))\n",
    "            keep_playing = input(\"Would you like to keep playing? (y/n): \")\n",
    "            while  keep_playing.lower() not in ['y','n']:\n",
    "                keep_playing = input(\"Please enter 'y' or 'n'. Would you like to keep playing? (y/n): \")\n",
    "            if keep_playing.lower() == 'n':\n",
    "                gameOn = False\n",
    "            break\n",
    "            \n",
    "        while player_guess > 100 or player_guess < 1 :\n",
    "            print(\"OUT OF BOUNDS\")\n",
    "            player_guess = int(input(\"Enter your guess between 1 to 100 : \"))\n",
    "            \n",
    "        chance.append((i,player_guess))\n",
    "        \n",
    "        if i == 0 :\n",
    "            if abs(player_guess - rand_number) <= 10 :\n",
    "                print(\"WORM!\")\n",
    "                continue\n",
    "            print(\"COLD!\")\n",
    "        else:\n",
    "            if abs(item[1] - rand_number) > abs(player_guess - rand_number):\n",
    "                print(\"WORMER!\")\n",
    "                continue\n",
    "            print(\"COLDER!\")\n",
    "else:\n",
    "    print(\"Thanks for playing !! \")"
   ]
  },
  {
   "cell_type": "code",
   "execution_count": null,
   "id": "d6fa0d6e-ad8b-48bf-8b4f-96655761d268",
   "metadata": {},
   "outputs": [],
   "source": []
  }
 ],
 "metadata": {
  "kernelspec": {
   "display_name": "Python 3 (ipykernel)",
   "language": "python",
   "name": "python3"
  },
  "language_info": {
   "codemirror_mode": {
    "name": "ipython",
    "version": 3
   },
   "file_extension": ".py",
   "mimetype": "text/x-python",
   "name": "python",
   "nbconvert_exporter": "python",
   "pygments_lexer": "ipython3",
   "version": "3.11.7"
  }
 },
 "nbformat": 4,
 "nbformat_minor": 5
}
