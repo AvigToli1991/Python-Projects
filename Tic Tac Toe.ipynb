{
 "cells": [
  {
   "cell_type": "code",
   "execution_count": 79,
   "id": "e5a71d17-24b7-4874-95e2-68bbcc1b0c23",
   "metadata": {},
   "outputs": [],
   "source": [
    "from IPython.display import clear_output"
   ]
  },
  {
   "cell_type": "code",
   "execution_count": 86,
   "id": "48c51f24-c8ec-4ca9-af12-470ae75abe61",
   "metadata": {},
   "outputs": [],
   "source": [
    "def print_board (board) : \n",
    "    '''\n",
    "        print_board( List[str]) -> None :\n",
    "            The function get list of string that used as the board data and print \n",
    "            it as a board of Tic Tac Toe with the data inside of the board list\n",
    "    '''\n",
    "\n",
    "    # check vlidation of input \n",
    "    \n",
    "    if isinstance(board,list) and all(isinstance(i, str) for i in board): \n",
    "        \n",
    "        print(\"{0: >12}{0: >12}\".format('|'))\n",
    "        print(\"{0: ^11}|{1: ^11}|{2: ^11}\".format(board[6],board[7],board[8]))\n",
    "        print(\"{0: >12}{0: >12}\".format('|'))\n",
    "        print('-'*36)\n",
    "        print(\"{0: >12}{0: >12}\".format('|'))\n",
    "        print(\"{0: ^11}|{1: ^11}|{2: ^11}\".format(board[3],board[4],board[5]))\n",
    "        print(\"{0: >12}{0: >12}\".format('|'))\n",
    "        print('-'*36)\n",
    "        print(\"{0: >12}{0: >12}\".format('|'))\n",
    "        print(\"{0: ^11}|{1: ^11}|{2: ^11}\".format(board[0],board[1],board[2]))\n",
    "        print(\"{0: >12}{0: >12}\".format('|'))\n",
    "        \n",
    "    else:\n",
    "        print(\"wrong input\")\n"
   ]
  },
  {
   "cell_type": "code",
   "execution_count": 87,
   "id": "c6c3b2f4-8f73-4328-ab55-fbb882915fbc",
   "metadata": {},
   "outputs": [],
   "source": [
    "def choose_position(board,symbole) : \n",
    "    '''\n",
    "        choose_position(board : List[str] ,symbole : str) --> board : List[str] : \n",
    "            The function get position from user , check validation of input and position \n",
    "            and return an update board with the symbol it get\n",
    "    '''\n",
    "    choice = int(input(\"Please pick a position (1-9) : \"))\n",
    "    while True:\n",
    "        if choice not in range(1,10):\n",
    "            choice = int(input(\"Invalid input  or position out of range !\\nPlease pick a position (1-9): \"))\n",
    "        elif board[choice-1] != '' :\n",
    "            choice = int(input(\"The position already taken!\\nPlease pick another position (1-9): \"))\n",
    "        else:\n",
    "            board[choice-1] = symbole\n",
    "            return board"
   ]
  },
  {
   "cell_type": "code",
   "execution_count": 88,
   "id": "c327d4fc-b531-48ae-ae9a-190e8892c39e",
   "metadata": {},
   "outputs": [],
   "source": [
    "def create_board():\n",
    "    '''\n",
    "        create_board ( None ) -> List[str]:\n",
    "            The function return a list in size of 9 contain '' for each cell that represent the data \n",
    "            of the positions in the board\n",
    "    '''\n",
    "    return ['']*9"
   ]
  },
  {
   "cell_type": "code",
   "execution_count": 89,
   "id": "bc5c9fcf-cbcd-4ac8-9c66-6e40372d147a",
   "metadata": {},
   "outputs": [],
   "source": [
    "def create_players():\n",
    "    '''\n",
    "        create_players() -> List[str]:\n",
    "        The function returns list of the players names\n",
    "    '''\n",
    "\n",
    "    return [input(\"Player 1 enter your name please :  \").capitalize() , input(\"Player 2 enter your name please :  \").capitalize()]"
   ]
  },
  {
   "cell_type": "code",
   "execution_count": 90,
   "id": "889eb483-b85f-4616-b315-47f8216a6f32",
   "metadata": {},
   "outputs": [],
   "source": [
    "def isWinner(board , player):\n",
    "    '''\n",
    "        isWinner(board: List[str] , player : str ) -> Bool : \n",
    "            The function check if player is winning and return True or Flase\n",
    "    '''\n",
    "    if (board[0] == board[1] == board[2] != '' or\n",
    "        board[3] == board[4] == board[5] != '' or\n",
    "        board[6] == board[7] == board[8] != '' or\n",
    "        board[0] == board[3] == board[6] != '' or\n",
    "        board[1] == board[4] == board[7] != '' or\n",
    "        board[2] == board[5] == board[8] != '' or\n",
    "        board[0] == board[4] == board[8] != '' or\n",
    "        board[2] == board[4] == board[6] != '') :\n",
    "            clear_output()\n",
    "            print_board(board)\n",
    "            print (\"The winner is : {0}. Grates for your winning!\".format(player))\n",
    "            return True\n",
    "    elif all(item != '' for item in board):\n",
    "        clear_output()\n",
    "        print_board(board)\n",
    "        print (\"Its a tie! No winner for this match!\")\n",
    "        return True\n",
    "    return False"
   ]
  },
  {
   "cell_type": "code",
   "execution_count": 91,
   "id": "3323e495-ad78-4011-bdf1-af7d7dde80e4",
   "metadata": {},
   "outputs": [],
   "source": [
    "def welcome_all():\n",
    "    print(\"Welcome to Tic Tac Toe Game!\")\n",
    "    print(\"The rules are simple: \")\n",
    "    print(\"\\t1. Wrie the players name. \")\n",
    "    print(\"\\t2. The one who goes first selected by random.\")\n",
    "    print(\"\\t3. The player whose selected will deside what symbol he want to be.\")\n",
    "    print(\"\\t4. In each turn the player choose what position he want to put his symbol in board\")\n",
    "    print(\"\\t5. The way to win is to make a sequence of 3 symbols of your symbol in line / column / diagonal line\")\n",
    "    print(\"\\t6. In winning or tie you can continue play another match\")\n",
    "    print(\"\\nLets get start!\")\n",
    "    print(\"\\n\"*2)"
   ]
  },
  {
   "cell_type": "code",
   "execution_count": 92,
   "id": "b2b1ac0b-e7f3-4bba-9905-9e03f845ddd8",
   "metadata": {},
   "outputs": [],
   "source": [
    "from random import randint\n",
    "\n",
    "def first_to_start():\n",
    "    return randint(0,2)"
   ]
  },
  {
   "cell_type": "code",
   "execution_count": 93,
   "id": "93c9e1d5-a6d3-4e85-a3f4-3110c9cd1ff0",
   "metadata": {},
   "outputs": [],
   "source": [
    "\n",
    "\n",
    "def game():\n",
    "\n",
    "    welcome_all()\n",
    "    players = create_players()\n",
    "    symbols = (\"X\",\"O\")\n",
    "    \n",
    "    game_on = True\n",
    "    \n",
    "    while game_on :\n",
    "        \n",
    "        board = create_board()\n",
    "        play_on = first_to_start()\n",
    "        print(\"{0} you are chosen to start the game! and your symbol is {1}\\n\\n\".format(players[play_on],symbols[play_on]))\n",
    "\n",
    "        while True:\n",
    "            print_board(board)\n",
    "            print (f\"{players[play_on]} it's your turn! \")\n",
    "            board = choose_position(board,symbols[play_on])\n",
    "            if isWinner(board,players[play_on]):\n",
    "                choice = input(\"Would you like to play another match? (y/n)\")\n",
    "                while choice.lower() not in ['y','n']:\n",
    "                    choice = input(\"Wrong input pleas use y/n! \\nWould you like to play another match? (y/n)\")\n",
    "                if choice.lower() == 'n':\n",
    "                    game_on = False\n",
    "                else:\n",
    "                    clear_output()\n",
    "                break\n",
    "            if play_on == 1:\n",
    "                play_on = 0\n",
    "            else:\n",
    "                play_on = 1\n",
    "                \n",
    "            # clear the previous output -- the function works only in Jupyter NoteBook\n",
    "            clear_output()\n",
    "    else:\n",
    "        print(\"Thanks for playing! \\nCome back again soon!\")\n",
    "        "
   ]
  },
  {
   "cell_type": "code",
   "execution_count": 94,
   "id": "0c33c240-5b45-46d8-a251-b6a9363fe2c4",
   "metadata": {},
   "outputs": [
    {
     "name": "stdout",
     "output_type": "stream",
     "text": [
      "           |           |\n",
      "     X     |     O     |     X     \n",
      "           |           |\n",
      "------------------------------------\n",
      "           |           |\n",
      "     X     |     X     |     O     \n",
      "           |           |\n",
      "------------------------------------\n",
      "           |           |\n",
      "     O     |     X     |     O     \n",
      "           |           |\n",
      "Its a tie! No winner for this match!\n"
     ]
    },
    {
     "name": "stdin",
     "output_type": "stream",
     "text": [
      "Would you like to play another match? (y/n) n\n"
     ]
    },
    {
     "name": "stdout",
     "output_type": "stream",
     "text": [
      "Thanks for playing! \n",
      "Come back again soon!\n"
     ]
    }
   ],
   "source": [
    "game()"
   ]
  },
  {
   "cell_type": "code",
   "execution_count": null,
   "id": "b218d197-0f99-4b08-a240-6f31d4019b84",
   "metadata": {},
   "outputs": [],
   "source": []
  }
 ],
 "metadata": {
  "kernelspec": {
   "display_name": "Python 3 (ipykernel)",
   "language": "python",
   "name": "python3"
  },
  "language_info": {
   "codemirror_mode": {
    "name": "ipython",
    "version": 3
   },
   "file_extension": ".py",
   "mimetype": "text/x-python",
   "name": "python",
   "nbconvert_exporter": "python",
   "pygments_lexer": "ipython3",
   "version": "3.11.7"
  }
 },
 "nbformat": 4,
 "nbformat_minor": 5
}
